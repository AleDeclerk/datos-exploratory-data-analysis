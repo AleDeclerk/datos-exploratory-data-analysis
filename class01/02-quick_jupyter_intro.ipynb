{
 "cells": [
  {
   "cell_type": "markdown",
   "metadata": {
    "deletable": true,
    "editable": true
   },
   "source": [
    "# Jupyter Notebook :: Una Introduccion"
   ]
  },
  {
   "cell_type": "markdown",
   "metadata": {
    "deletable": true,
    "editable": true
   },
   "source": [
    "Jupyter Notebook es una aplicacion web que permite la creacion de notebooks interactivos que pueden tener codigo (que puede ser ejecutado), ecuaciones, visualizaciones y texto. \n",
    "\n",
    "Previamente esta conocido como Ipython Notebook, pero al soportarse mayor cantidad de kernels (mecanismo utilizado para poder realizar la ejecucion de codigo) por ejemplo Julia y R, cambio su nombre.\n",
    "\n",
    "Sus usos incluyen: Limpieza de informacion y transformaciones, simulaciones numericas, modelado estadistico y machine learning, y mucho mas."
   ]
  },
  {
   "cell_type": "markdown",
   "metadata": {
    "deletable": true,
    "editable": true
   },
   "source": [
    "## Ejecutando un server de Jupyter"
   ]
  },
  {
   "cell_type": "markdown",
   "metadata": {
    "deletable": true,
    "editable": true
   },
   "source": [
    "Desde el directorio donde queremos ejecutar o guardar nuestros notebooks ejecutamos el comando en el shell:\n",
    "\n",
    "```\n",
    "$ jupyter notebook \n",
    "```\n",
    "\n",
    "Y comenzara en el puerto default 8080\n",
    "\n",
    "Tambien si tienen funcionando otros servicios en ese pueden indicar el puerto con el comando\n",
    "\n",
    "```\n",
    "$ jupyter notebook --port=PORT\n",
    "```\n",
    "\n",
    "indicando en PORT el puerto deseado.\n",
    "\n",
    "Para mas informacion pueden hacer\n",
    "\n",
    "```\n",
    "$ jupyter notebook help\n",
    "```\n"
   ]
  },
  {
   "cell_type": "markdown",
   "metadata": {
    "deletable": true,
    "editable": true
   },
   "source": [
    "## Ejecutando Celdas"
   ]
  },
  {
   "cell_type": "code",
   "execution_count": 1,
   "metadata": {
    "collapsed": false,
    "deletable": true,
    "editable": true
   },
   "outputs": [
    {
     "name": "stdout",
     "output_type": "stream",
     "text": [
      "Esto es una celda, presionar el boton ▶ para ejecutarla\n"
     ]
    }
   ],
   "source": [
    "import pandas as pd\n",
    "\n",
    "print \"Esto es una celda, presionar el boton ▶ para ejecutarla\""
   ]
  },
  {
   "cell_type": "markdown",
   "metadata": {
    "deletable": true,
    "editable": true
   },
   "source": [
    "Otra forma de ejecutar las mismas es utilizar Ctrl+Enter or Shift+Enter."
   ]
  },
  {
   "cell_type": "markdown",
   "metadata": {
    "deletable": true,
    "editable": true
   },
   "source": [
    "## Escribiendo Codigo"
   ]
  },
  {
   "cell_type": "markdown",
   "metadata": {
    "deletable": true,
    "editable": true
   },
   "source": [
    "Algo muy util es el autocompletado utilizando Shift-Tab. (Intentar utilizarlo haciendo multiples tabs)."
   ]
  },
  {
   "cell_type": "code",
   "execution_count": null,
   "metadata": {
    "collapsed": false,
    "deletable": true,
    "editable": true
   },
   "outputs": [],
   "source": [
    "pd.read_csv"
   ]
  },
  {
   "cell_type": "markdown",
   "metadata": {
    "deletable": true,
    "editable": true
   },
   "source": [
    "O el autocompletado al utilizar el Tab sobre funciones."
   ]
  },
  {
   "cell_type": "code",
   "execution_count": null,
   "metadata": {
    "collapsed": false,
    "deletable": true,
    "editable": true
   },
   "outputs": [],
   "source": [
    "pd.read"
   ]
  },
  {
   "cell_type": "markdown",
   "metadata": {
    "deletable": true,
    "editable": true
   },
   "source": [
    "Escribir codigo es directo como se trabajaria en el lenguaje, teniendo en cuenta que la secuencia de ejecucion debe respetarse"
   ]
  },
  {
   "cell_type": "code",
   "execution_count": 2,
   "metadata": {
    "collapsed": true,
    "deletable": true,
    "editable": true
   },
   "outputs": [],
   "source": [
    "def print_nums(limit):\n",
    "    for i in range(limit):\n",
    "        print i,"
   ]
  },
  {
   "cell_type": "code",
   "execution_count": 4,
   "metadata": {
    "collapsed": false,
    "deletable": true,
    "editable": true
   },
   "outputs": [
    {
     "name": "stdout",
     "output_type": "stream",
     "text": [
      "0 1 2 3 4 5 6 7 8 9\n"
     ]
    }
   ],
   "source": [
    "print_nums(10)"
   ]
  },
  {
   "cell_type": "markdown",
   "metadata": {
    "deletable": true,
    "editable": true
   },
   "source": [
    "## Magic Functions\n",
    "\n",
    "Jupyter tiene un conjunto de funciones o comandos magicos que permiten realizar acciones con el kernel especifico (en este caso de IPython), las mismas permiten hacer profiling de ejecucion de comandos y otras cosas con jupyter y pueden\n",
    "resultar muy utiles.\n",
    "\n",
    "Para una mayor referencia al respecto pueden consultar [http://ipython.readthedocs.io/en/stable/interactive/magics.html](http://ipython.readthedocs.io/en/stable/interactive/magics.html)"
   ]
  },
  {
   "cell_type": "code",
   "execution_count": 5,
   "metadata": {
    "collapsed": false,
    "deletable": true,
    "editable": true
   },
   "outputs": [],
   "source": [
    "# para tener una referencia rapida de las mismas\n",
    "# Su notacion con un %\n",
    "% quickref"
   ]
  },
  {
   "cell_type": "code",
   "execution_count": null,
   "metadata": {
    "collapsed": true
   },
   "outputs": [],
   "source": []
  }
 ],
 "metadata": {
  "kernelspec": {
   "display_name": "Python 2",
   "language": "python",
   "name": "python2"
  },
  "language_info": {
   "codemirror_mode": {
    "name": "ipython",
    "version": 2
   },
   "file_extension": ".py",
   "mimetype": "text/x-python",
   "name": "python",
   "nbconvert_exporter": "python",
   "pygments_lexer": "ipython2",
   "version": "2.7.13"
  }
 },
 "nbformat": 4,
 "nbformat_minor": 2
}
